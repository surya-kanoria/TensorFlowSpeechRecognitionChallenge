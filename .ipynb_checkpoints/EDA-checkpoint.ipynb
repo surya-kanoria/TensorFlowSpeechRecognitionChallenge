{
 "cells": [
  {
   "cell_type": "code",
   "execution_count": 1,
   "metadata": {},
   "outputs": [
    {
     "data": {
      "text/html": [
       "        <script type=\"text/javascript\">\n",
       "        window.PlotlyConfig = {MathJaxConfig: 'local'};\n",
       "        if (window.MathJax) {MathJax.Hub.Config({SVG: {font: \"STIX-Web\"}});}\n",
       "        if (typeof require !== 'undefined') {\n",
       "        require.undef(\"plotly\");\n",
       "        requirejs.config({\n",
       "            paths: {\n",
       "                'plotly': ['https://cdn.plot.ly/plotly-latest.min']\n",
       "            }\n",
       "        });\n",
       "        require(['plotly'], function(Plotly) {\n",
       "            window._Plotly = Plotly;\n",
       "        });\n",
       "        }\n",
       "        </script>\n",
       "        "
      ]
     },
     "metadata": {},
     "output_type": "display_data"
    }
   ],
   "source": [
    "import os\n",
    "from os.path import isdir, join\n",
    "from pathlib import Path\n",
    "import pandas as pd\n",
    "\n",
    "# Math\n",
    "import numpy as np\n",
    "from scipy.fftpack import fft\n",
    "from scipy import signal\n",
    "import librosa\n",
    "\n",
    "# Visualization\n",
    "import matplotlib.pyplot as plt\n",
    "import seaborn as sns\n",
    "import IPython.display as ipd\n",
    "import librosa.display\n",
    "\n",
    "import plotly.offline as py\n",
    "py.init_notebook_mode(connected=True)\n",
    "import plotly.graph_objs as go\n",
    "import plotly.tools as tls\n",
    "import pandas as pd\n",
    "\n",
    "%matplotlib inline"
   ]
  },
  {
   "cell_type": "code",
   "execution_count": 9,
   "metadata": {},
   "outputs": [],
   "source": [
    "cwd = os.getcwd()\n",
    "train_audio_path = cwd + '/speech_commands_v0.01'\n",
    "filename = '/yes/b00c4c53_nohash_1.wav'\n",
    "samples, sample_rate = librosa.load(str(train_audio_path)+filename)"
   ]
  },
  {
   "cell_type": "code",
   "execution_count": 6,
   "metadata": {},
   "outputs": [],
   "source": [
    "class EDA:\n",
    "    def __init__(self,directory_path):\n",
    "        self.directory_path = directory_path\n",
    "    \n",
    "    def plot_histogram(self):\n",
    "        dirs = [f for f in os.listdir(self.directory_path) if isdir(join(self.directory_path, f))]\n",
    "        dirs.sort()\n",
    "        number_of_recordings = []\n",
    "        for direct in dirs:\n",
    "            waves = [f for f in os.listdir(join(self.directory_path, direct)) if f.endswith('.wav')]\n",
    "            number_of_recordings.append(len(waves))\n",
    "        # Plot\n",
    "        data = [go.Histogram(x=dirs, y=number_of_recordings)]\n",
    "        trace = go.Bar(\n",
    "            x=dirs,\n",
    "            y=number_of_recordings,\n",
    "            marker=dict(color = number_of_recordings, showscale=True\n",
    "            ),\n",
    "        )\n",
    "        layout = go.Layout(\n",
    "            title='Number of recordings in given label',\n",
    "            xaxis = dict(title='Words'),\n",
    "            yaxis = dict(title='Number of recordings')\n",
    "        )\n",
    "        py.iplot(go.Figure(data=[trace], layout=layout))\n"
   ]
  },
  {
   "cell_type": "code",
   "execution_count": 64,
   "metadata": {},
   "outputs": [],
   "source": [
    "class FileProcessor:\n",
    "    def __init__(self,directory_name,file_name):\n",
    "        self.file_path = str(directory_name)+filename\n",
    "        self.samples, self.sample_rate = librosa.load(str(directory_name)+filename)\n",
    "        \n",
    "    def log_specgram(self, window_size=20,\n",
    "                 step_size=10, eps=1e-10):\n",
    "        nperseg = int(round(window_size * self.sample_rate / 1e3))\n",
    "        noverlap = int(round(step_size * self.sample_rate / 1e3))\n",
    "        self.freqs, self.times, spec = signal.spectrogram(self.samples,\n",
    "                                    fs=self.sample_rate,\n",
    "                                    window='hann',\n",
    "                                    nperseg=nperseg,\n",
    "                                    noverlap=noverlap,\n",
    "                                    detrend=False)\n",
    "        self.spec = np.log(spec.T.astype(np.float32) + eps)\n",
    "\n",
    "    def plot_specgram(self):\n",
    "        fig = plt.figure(figsize=(14, 8))\n",
    "        ax1 = fig.add_subplot(211)\n",
    "        ax1.set_title('Raw wave of ' + filename)\n",
    "        ax1.set_ylabel('Amplitude')\n",
    "\n",
    "        ax1.plot(np.linspace(0, self.sample_rate/len(self.samples), self.sample_rate), self.samples)\n",
    "\n",
    "        ax2 = fig.add_subplot(212)\n",
    "        ax2.imshow(self.spec.T, aspect='auto', origin='lower', \n",
    "        extent=[self.times.min(), self.times.max(), self.freqs.min(), self.freqs.max()])\n",
    "        ax2.set_yticks(self.freqs[::16])\n",
    "        ax2.set_xticks(self.times[::16])\n",
    "        ax2.set_title('Spectrogram of ' + self.file_path)\n",
    "        ax2.set_ylabel('Freqs in Hz')\n",
    "        ax2.set_xlabel('Seconds')\n",
    "        \n",
    "    def get_mel_spectogram(self):\n",
    "        S = librosa.feature.melspectrogram(self.samples, sr=self.sample_rate, n_mels=128)\n",
    "\n",
    "        # Convert to log scale (dB). We'll use the peak power (max) as reference.\n",
    "        self.log_S = librosa.power_to_db(S, ref=np.max)\n",
    "        return self.log_S\n",
    "    \n",
    "    def plot_mel_spectogram(self):\n",
    "        plt.figure(figsize=(12, 4))\n",
    "        librosa.display.specshow(self.log_S, sr=self.sample_rate, x_axis='time', y_axis='mel')\n",
    "        plt.title('Mel power spectrogram ')\n",
    "        plt.colorbar(format='%+02.0f dB')\n",
    "        plt.tight_layout()\n",
    "    \n",
    "    def get_delta(self):\n",
    "        mfcc = librosa.feature.mfcc(S=self.log_S, n_mfcc=13)\n",
    "\n",
    "        # Let's pad on the first and second deltas while we're at it\n",
    "        self.delta2_mfcc = librosa.feature.delta(mfcc, order=2)\n",
    "\n",
    "    def plot_delta(self):\n",
    "        plt.figure(figsize=(12, 4))\n",
    "        librosa.display.specshow(self.delta2_mfcc)\n",
    "        plt.ylabel('MFCC coeffs')\n",
    "        plt.xlabel('Time')\n",
    "        plt.title('MFCC')\n",
    "        plt.colorbar()\n",
    "        plt.tight_layout()"
   ]
  },
  {
   "cell_type": "code",
   "execution_count": 10,
   "metadata": {},
   "outputs": [
    {
     "data": {
      "application/vnd.plotly.v1+json": {
       "config": {
        "linkText": "Export to plot.ly",
        "plotlyServerURL": "https://plot.ly",
        "showLink": false
       },
       "data": [
        {
         "marker": {
          "color": [
           6,
           1713,
           1731,
           1733,
           1746,
           2359,
           2352,
           2357,
           2372,
           2372,
           1742,
           1750,
           2353,
           1746,
           2364,
           2375,
           2357,
           2367,
           2370,
           2367,
           2377,
           1734,
           2369,
           2380,
           2356,
           1733,
           2373,
           2375,
           1745,
           2377,
           2376
          ],
          "showscale": true
         },
         "type": "bar",
         "x": [
          "_background_noise_",
          "bed",
          "bird",
          "cat",
          "dog",
          "down",
          "eight",
          "five",
          "four",
          "go",
          "happy",
          "house",
          "left",
          "marvin",
          "nine",
          "no",
          "off",
          "on",
          "one",
          "right",
          "seven",
          "sheila",
          "six",
          "stop",
          "three",
          "tree",
          "two",
          "up",
          "wow",
          "yes",
          "zero"
         ],
         "y": [
          6,
          1713,
          1731,
          1733,
          1746,
          2359,
          2352,
          2357,
          2372,
          2372,
          1742,
          1750,
          2353,
          1746,
          2364,
          2375,
          2357,
          2367,
          2370,
          2367,
          2377,
          1734,
          2369,
          2380,
          2356,
          1733,
          2373,
          2375,
          1745,
          2377,
          2376
         ]
        }
       ],
       "layout": {
        "template": {
         "data": {
          "bar": [
           {
            "error_x": {
             "color": "#2a3f5f"
            },
            "error_y": {
             "color": "#2a3f5f"
            },
            "marker": {
             "line": {
              "color": "#E5ECF6",
              "width": 0.5
             }
            },
            "type": "bar"
           }
          ],
          "barpolar": [
           {
            "marker": {
             "line": {
              "color": "#E5ECF6",
              "width": 0.5
             }
            },
            "type": "barpolar"
           }
          ],
          "carpet": [
           {
            "aaxis": {
             "endlinecolor": "#2a3f5f",
             "gridcolor": "white",
             "linecolor": "white",
             "minorgridcolor": "white",
             "startlinecolor": "#2a3f5f"
            },
            "baxis": {
             "endlinecolor": "#2a3f5f",
             "gridcolor": "white",
             "linecolor": "white",
             "minorgridcolor": "white",
             "startlinecolor": "#2a3f5f"
            },
            "type": "carpet"
           }
          ],
          "choropleth": [
           {
            "colorbar": {
             "outlinewidth": 0,
             "ticks": ""
            },
            "type": "choropleth"
           }
          ],
          "contour": [
           {
            "colorbar": {
             "outlinewidth": 0,
             "ticks": ""
            },
            "colorscale": [
             [
              0,
              "#0d0887"
             ],
             [
              0.1111111111111111,
              "#46039f"
             ],
             [
              0.2222222222222222,
              "#7201a8"
             ],
             [
              0.3333333333333333,
              "#9c179e"
             ],
             [
              0.4444444444444444,
              "#bd3786"
             ],
             [
              0.5555555555555556,
              "#d8576b"
             ],
             [
              0.6666666666666666,
              "#ed7953"
             ],
             [
              0.7777777777777778,
              "#fb9f3a"
             ],
             [
              0.8888888888888888,
              "#fdca26"
             ],
             [
              1,
              "#f0f921"
             ]
            ],
            "type": "contour"
           }
          ],
          "contourcarpet": [
           {
            "colorbar": {
             "outlinewidth": 0,
             "ticks": ""
            },
            "type": "contourcarpet"
           }
          ],
          "heatmap": [
           {
            "colorbar": {
             "outlinewidth": 0,
             "ticks": ""
            },
            "colorscale": [
             [
              0,
              "#0d0887"
             ],
             [
              0.1111111111111111,
              "#46039f"
             ],
             [
              0.2222222222222222,
              "#7201a8"
             ],
             [
              0.3333333333333333,
              "#9c179e"
             ],
             [
              0.4444444444444444,
              "#bd3786"
             ],
             [
              0.5555555555555556,
              "#d8576b"
             ],
             [
              0.6666666666666666,
              "#ed7953"
             ],
             [
              0.7777777777777778,
              "#fb9f3a"
             ],
             [
              0.8888888888888888,
              "#fdca26"
             ],
             [
              1,
              "#f0f921"
             ]
            ],
            "type": "heatmap"
           }
          ],
          "heatmapgl": [
           {
            "colorbar": {
             "outlinewidth": 0,
             "ticks": ""
            },
            "colorscale": [
             [
              0,
              "#0d0887"
             ],
             [
              0.1111111111111111,
              "#46039f"
             ],
             [
              0.2222222222222222,
              "#7201a8"
             ],
             [
              0.3333333333333333,
              "#9c179e"
             ],
             [
              0.4444444444444444,
              "#bd3786"
             ],
             [
              0.5555555555555556,
              "#d8576b"
             ],
             [
              0.6666666666666666,
              "#ed7953"
             ],
             [
              0.7777777777777778,
              "#fb9f3a"
             ],
             [
              0.8888888888888888,
              "#fdca26"
             ],
             [
              1,
              "#f0f921"
             ]
            ],
            "type": "heatmapgl"
           }
          ],
          "histogram": [
           {
            "marker": {
             "colorbar": {
              "outlinewidth": 0,
              "ticks": ""
             }
            },
            "type": "histogram"
           }
          ],
          "histogram2d": [
           {
            "colorbar": {
             "outlinewidth": 0,
             "ticks": ""
            },
            "colorscale": [
             [
              0,
              "#0d0887"
             ],
             [
              0.1111111111111111,
              "#46039f"
             ],
             [
              0.2222222222222222,
              "#7201a8"
             ],
             [
              0.3333333333333333,
              "#9c179e"
             ],
             [
              0.4444444444444444,
              "#bd3786"
             ],
             [
              0.5555555555555556,
              "#d8576b"
             ],
             [
              0.6666666666666666,
              "#ed7953"
             ],
             [
              0.7777777777777778,
              "#fb9f3a"
             ],
             [
              0.8888888888888888,
              "#fdca26"
             ],
             [
              1,
              "#f0f921"
             ]
            ],
            "type": "histogram2d"
           }
          ],
          "histogram2dcontour": [
           {
            "colorbar": {
             "outlinewidth": 0,
             "ticks": ""
            },
            "colorscale": [
             [
              0,
              "#0d0887"
             ],
             [
              0.1111111111111111,
              "#46039f"
             ],
             [
              0.2222222222222222,
              "#7201a8"
             ],
             [
              0.3333333333333333,
              "#9c179e"
             ],
             [
              0.4444444444444444,
              "#bd3786"
             ],
             [
              0.5555555555555556,
              "#d8576b"
             ],
             [
              0.6666666666666666,
              "#ed7953"
             ],
             [
              0.7777777777777778,
              "#fb9f3a"
             ],
             [
              0.8888888888888888,
              "#fdca26"
             ],
             [
              1,
              "#f0f921"
             ]
            ],
            "type": "histogram2dcontour"
           }
          ],
          "mesh3d": [
           {
            "colorbar": {
             "outlinewidth": 0,
             "ticks": ""
            },
            "type": "mesh3d"
           }
          ],
          "parcoords": [
           {
            "line": {
             "colorbar": {
              "outlinewidth": 0,
              "ticks": ""
             }
            },
            "type": "parcoords"
           }
          ],
          "scatter": [
           {
            "marker": {
             "colorbar": {
              "outlinewidth": 0,
              "ticks": ""
             }
            },
            "type": "scatter"
           }
          ],
          "scatter3d": [
           {
            "line": {
             "colorbar": {
              "outlinewidth": 0,
              "ticks": ""
             }
            },
            "marker": {
             "colorbar": {
              "outlinewidth": 0,
              "ticks": ""
             }
            },
            "type": "scatter3d"
           }
          ],
          "scattercarpet": [
           {
            "marker": {
             "colorbar": {
              "outlinewidth": 0,
              "ticks": ""
             }
            },
            "type": "scattercarpet"
           }
          ],
          "scattergeo": [
           {
            "marker": {
             "colorbar": {
              "outlinewidth": 0,
              "ticks": ""
             }
            },
            "type": "scattergeo"
           }
          ],
          "scattergl": [
           {
            "marker": {
             "colorbar": {
              "outlinewidth": 0,
              "ticks": ""
             }
            },
            "type": "scattergl"
           }
          ],
          "scattermapbox": [
           {
            "marker": {
             "colorbar": {
              "outlinewidth": 0,
              "ticks": ""
             }
            },
            "type": "scattermapbox"
           }
          ],
          "scatterpolar": [
           {
            "marker": {
             "colorbar": {
              "outlinewidth": 0,
              "ticks": ""
             }
            },
            "type": "scatterpolar"
           }
          ],
          "scatterpolargl": [
           {
            "marker": {
             "colorbar": {
              "outlinewidth": 0,
              "ticks": ""
             }
            },
            "type": "scatterpolargl"
           }
          ],
          "scatterternary": [
           {
            "marker": {
             "colorbar": {
              "outlinewidth": 0,
              "ticks": ""
             }
            },
            "type": "scatterternary"
           }
          ],
          "surface": [
           {
            "colorbar": {
             "outlinewidth": 0,
             "ticks": ""
            },
            "colorscale": [
             [
              0,
              "#0d0887"
             ],
             [
              0.1111111111111111,
              "#46039f"
             ],
             [
              0.2222222222222222,
              "#7201a8"
             ],
             [
              0.3333333333333333,
              "#9c179e"
             ],
             [
              0.4444444444444444,
              "#bd3786"
             ],
             [
              0.5555555555555556,
              "#d8576b"
             ],
             [
              0.6666666666666666,
              "#ed7953"
             ],
             [
              0.7777777777777778,
              "#fb9f3a"
             ],
             [
              0.8888888888888888,
              "#fdca26"
             ],
             [
              1,
              "#f0f921"
             ]
            ],
            "type": "surface"
           }
          ],
          "table": [
           {
            "cells": {
             "fill": {
              "color": "#EBF0F8"
             },
             "line": {
              "color": "white"
             }
            },
            "header": {
             "fill": {
              "color": "#C8D4E3"
             },
             "line": {
              "color": "white"
             }
            },
            "type": "table"
           }
          ]
         },
         "layout": {
          "annotationdefaults": {
           "arrowcolor": "#2a3f5f",
           "arrowhead": 0,
           "arrowwidth": 1
          },
          "colorscale": {
           "diverging": [
            [
             0,
             "#8e0152"
            ],
            [
             0.1,
             "#c51b7d"
            ],
            [
             0.2,
             "#de77ae"
            ],
            [
             0.3,
             "#f1b6da"
            ],
            [
             0.4,
             "#fde0ef"
            ],
            [
             0.5,
             "#f7f7f7"
            ],
            [
             0.6,
             "#e6f5d0"
            ],
            [
             0.7,
             "#b8e186"
            ],
            [
             0.8,
             "#7fbc41"
            ],
            [
             0.9,
             "#4d9221"
            ],
            [
             1,
             "#276419"
            ]
           ],
           "sequential": [
            [
             0,
             "#0d0887"
            ],
            [
             0.1111111111111111,
             "#46039f"
            ],
            [
             0.2222222222222222,
             "#7201a8"
            ],
            [
             0.3333333333333333,
             "#9c179e"
            ],
            [
             0.4444444444444444,
             "#bd3786"
            ],
            [
             0.5555555555555556,
             "#d8576b"
            ],
            [
             0.6666666666666666,
             "#ed7953"
            ],
            [
             0.7777777777777778,
             "#fb9f3a"
            ],
            [
             0.8888888888888888,
             "#fdca26"
            ],
            [
             1,
             "#f0f921"
            ]
           ],
           "sequentialminus": [
            [
             0,
             "#0d0887"
            ],
            [
             0.1111111111111111,
             "#46039f"
            ],
            [
             0.2222222222222222,
             "#7201a8"
            ],
            [
             0.3333333333333333,
             "#9c179e"
            ],
            [
             0.4444444444444444,
             "#bd3786"
            ],
            [
             0.5555555555555556,
             "#d8576b"
            ],
            [
             0.6666666666666666,
             "#ed7953"
            ],
            [
             0.7777777777777778,
             "#fb9f3a"
            ],
            [
             0.8888888888888888,
             "#fdca26"
            ],
            [
             1,
             "#f0f921"
            ]
           ]
          },
          "colorway": [
           "#636efa",
           "#EF553B",
           "#00cc96",
           "#ab63fa",
           "#FFA15A",
           "#19d3f3",
           "#FF6692",
           "#B6E880",
           "#FF97FF",
           "#FECB52"
          ],
          "font": {
           "color": "#2a3f5f"
          },
          "geo": {
           "bgcolor": "white",
           "lakecolor": "white",
           "landcolor": "#E5ECF6",
           "showlakes": true,
           "showland": true,
           "subunitcolor": "white"
          },
          "hoverlabel": {
           "align": "left"
          },
          "hovermode": "closest",
          "mapbox": {
           "style": "light"
          },
          "paper_bgcolor": "white",
          "plot_bgcolor": "#E5ECF6",
          "polar": {
           "angularaxis": {
            "gridcolor": "white",
            "linecolor": "white",
            "ticks": ""
           },
           "bgcolor": "#E5ECF6",
           "radialaxis": {
            "gridcolor": "white",
            "linecolor": "white",
            "ticks": ""
           }
          },
          "scene": {
           "xaxis": {
            "backgroundcolor": "#E5ECF6",
            "gridcolor": "white",
            "gridwidth": 2,
            "linecolor": "white",
            "showbackground": true,
            "ticks": "",
            "zerolinecolor": "white"
           },
           "yaxis": {
            "backgroundcolor": "#E5ECF6",
            "gridcolor": "white",
            "gridwidth": 2,
            "linecolor": "white",
            "showbackground": true,
            "ticks": "",
            "zerolinecolor": "white"
           },
           "zaxis": {
            "backgroundcolor": "#E5ECF6",
            "gridcolor": "white",
            "gridwidth": 2,
            "linecolor": "white",
            "showbackground": true,
            "ticks": "",
            "zerolinecolor": "white"
           }
          },
          "shapedefaults": {
           "line": {
            "color": "#2a3f5f"
           }
          },
          "ternary": {
           "aaxis": {
            "gridcolor": "white",
            "linecolor": "white",
            "ticks": ""
           },
           "baxis": {
            "gridcolor": "white",
            "linecolor": "white",
            "ticks": ""
           },
           "bgcolor": "#E5ECF6",
           "caxis": {
            "gridcolor": "white",
            "linecolor": "white",
            "ticks": ""
           }
          },
          "title": {
           "x": 0.05
          },
          "xaxis": {
           "automargin": true,
           "gridcolor": "white",
           "linecolor": "white",
           "ticks": "",
           "zerolinecolor": "white",
           "zerolinewidth": 2
          },
          "yaxis": {
           "automargin": true,
           "gridcolor": "white",
           "linecolor": "white",
           "ticks": "",
           "zerolinecolor": "white",
           "zerolinewidth": 2
          }
         }
        },
        "title": {
         "text": "Number of recordings in given label"
        },
        "xaxis": {
         "title": {
          "text": "Words"
         }
        },
        "yaxis": {
         "title": {
          "text": "Number of recordings"
         }
        }
       }
      },
      "text/html": [
       "<div>\n",
       "        \n",
       "        \n",
       "            <div id=\"2192d664-dc9f-40cb-b3b9-16d31a99a24c\" class=\"plotly-graph-div\" style=\"height:525px; width:100%;\"></div>\n",
       "            <script type=\"text/javascript\">\n",
       "                require([\"plotly\"], function(Plotly) {\n",
       "                    window.PLOTLYENV=window.PLOTLYENV || {};\n",
       "                    \n",
       "                if (document.getElementById(\"2192d664-dc9f-40cb-b3b9-16d31a99a24c\")) {\n",
       "                    Plotly.newPlot(\n",
       "                        '2192d664-dc9f-40cb-b3b9-16d31a99a24c',\n",
       "                        [{\"marker\": {\"color\": [6, 1713, 1731, 1733, 1746, 2359, 2352, 2357, 2372, 2372, 1742, 1750, 2353, 1746, 2364, 2375, 2357, 2367, 2370, 2367, 2377, 1734, 2369, 2380, 2356, 1733, 2373, 2375, 1745, 2377, 2376], \"showscale\": true}, \"type\": \"bar\", \"x\": [\"_background_noise_\", \"bed\", \"bird\", \"cat\", \"dog\", \"down\", \"eight\", \"five\", \"four\", \"go\", \"happy\", \"house\", \"left\", \"marvin\", \"nine\", \"no\", \"off\", \"on\", \"one\", \"right\", \"seven\", \"sheila\", \"six\", \"stop\", \"three\", \"tree\", \"two\", \"up\", \"wow\", \"yes\", \"zero\"], \"y\": [6, 1713, 1731, 1733, 1746, 2359, 2352, 2357, 2372, 2372, 1742, 1750, 2353, 1746, 2364, 2375, 2357, 2367, 2370, 2367, 2377, 1734, 2369, 2380, 2356, 1733, 2373, 2375, 1745, 2377, 2376]}],\n",
       "                        {\"template\": {\"data\": {\"bar\": [{\"error_x\": {\"color\": \"#2a3f5f\"}, \"error_y\": {\"color\": \"#2a3f5f\"}, \"marker\": {\"line\": {\"color\": \"#E5ECF6\", \"width\": 0.5}}, \"type\": \"bar\"}], \"barpolar\": [{\"marker\": {\"line\": {\"color\": \"#E5ECF6\", \"width\": 0.5}}, \"type\": \"barpolar\"}], \"carpet\": [{\"aaxis\": {\"endlinecolor\": \"#2a3f5f\", \"gridcolor\": \"white\", \"linecolor\": \"white\", \"minorgridcolor\": \"white\", \"startlinecolor\": \"#2a3f5f\"}, \"baxis\": {\"endlinecolor\": \"#2a3f5f\", \"gridcolor\": \"white\", \"linecolor\": \"white\", \"minorgridcolor\": \"white\", \"startlinecolor\": \"#2a3f5f\"}, \"type\": \"carpet\"}], \"choropleth\": [{\"colorbar\": {\"outlinewidth\": 0, \"ticks\": \"\"}, \"type\": \"choropleth\"}], \"contour\": [{\"colorbar\": {\"outlinewidth\": 0, \"ticks\": \"\"}, \"colorscale\": [[0.0, \"#0d0887\"], [0.1111111111111111, \"#46039f\"], [0.2222222222222222, \"#7201a8\"], [0.3333333333333333, \"#9c179e\"], [0.4444444444444444, \"#bd3786\"], [0.5555555555555556, \"#d8576b\"], [0.6666666666666666, \"#ed7953\"], [0.7777777777777778, \"#fb9f3a\"], [0.8888888888888888, \"#fdca26\"], [1.0, \"#f0f921\"]], \"type\": \"contour\"}], \"contourcarpet\": [{\"colorbar\": {\"outlinewidth\": 0, \"ticks\": \"\"}, \"type\": \"contourcarpet\"}], \"heatmap\": [{\"colorbar\": {\"outlinewidth\": 0, \"ticks\": \"\"}, \"colorscale\": [[0.0, \"#0d0887\"], [0.1111111111111111, \"#46039f\"], [0.2222222222222222, \"#7201a8\"], [0.3333333333333333, \"#9c179e\"], [0.4444444444444444, \"#bd3786\"], [0.5555555555555556, \"#d8576b\"], [0.6666666666666666, \"#ed7953\"], [0.7777777777777778, \"#fb9f3a\"], [0.8888888888888888, \"#fdca26\"], [1.0, \"#f0f921\"]], \"type\": \"heatmap\"}], \"heatmapgl\": [{\"colorbar\": {\"outlinewidth\": 0, \"ticks\": \"\"}, \"colorscale\": [[0.0, \"#0d0887\"], [0.1111111111111111, \"#46039f\"], [0.2222222222222222, \"#7201a8\"], [0.3333333333333333, \"#9c179e\"], [0.4444444444444444, \"#bd3786\"], [0.5555555555555556, \"#d8576b\"], [0.6666666666666666, \"#ed7953\"], [0.7777777777777778, \"#fb9f3a\"], [0.8888888888888888, \"#fdca26\"], [1.0, \"#f0f921\"]], \"type\": \"heatmapgl\"}], \"histogram\": [{\"marker\": {\"colorbar\": {\"outlinewidth\": 0, \"ticks\": \"\"}}, \"type\": \"histogram\"}], \"histogram2d\": [{\"colorbar\": {\"outlinewidth\": 0, \"ticks\": \"\"}, \"colorscale\": [[0.0, \"#0d0887\"], [0.1111111111111111, \"#46039f\"], [0.2222222222222222, \"#7201a8\"], [0.3333333333333333, \"#9c179e\"], [0.4444444444444444, \"#bd3786\"], [0.5555555555555556, \"#d8576b\"], [0.6666666666666666, \"#ed7953\"], [0.7777777777777778, \"#fb9f3a\"], [0.8888888888888888, \"#fdca26\"], [1.0, \"#f0f921\"]], \"type\": \"histogram2d\"}], \"histogram2dcontour\": [{\"colorbar\": {\"outlinewidth\": 0, \"ticks\": \"\"}, \"colorscale\": [[0.0, \"#0d0887\"], [0.1111111111111111, \"#46039f\"], [0.2222222222222222, \"#7201a8\"], [0.3333333333333333, \"#9c179e\"], [0.4444444444444444, \"#bd3786\"], [0.5555555555555556, \"#d8576b\"], [0.6666666666666666, \"#ed7953\"], [0.7777777777777778, \"#fb9f3a\"], [0.8888888888888888, \"#fdca26\"], [1.0, \"#f0f921\"]], \"type\": \"histogram2dcontour\"}], \"mesh3d\": [{\"colorbar\": {\"outlinewidth\": 0, \"ticks\": \"\"}, \"type\": \"mesh3d\"}], \"parcoords\": [{\"line\": {\"colorbar\": {\"outlinewidth\": 0, \"ticks\": \"\"}}, \"type\": \"parcoords\"}], \"scatter\": [{\"marker\": {\"colorbar\": {\"outlinewidth\": 0, \"ticks\": \"\"}}, \"type\": \"scatter\"}], \"scatter3d\": [{\"line\": {\"colorbar\": {\"outlinewidth\": 0, \"ticks\": \"\"}}, \"marker\": {\"colorbar\": {\"outlinewidth\": 0, \"ticks\": \"\"}}, \"type\": \"scatter3d\"}], \"scattercarpet\": [{\"marker\": {\"colorbar\": {\"outlinewidth\": 0, \"ticks\": \"\"}}, \"type\": \"scattercarpet\"}], \"scattergeo\": [{\"marker\": {\"colorbar\": {\"outlinewidth\": 0, \"ticks\": \"\"}}, \"type\": \"scattergeo\"}], \"scattergl\": [{\"marker\": {\"colorbar\": {\"outlinewidth\": 0, \"ticks\": \"\"}}, \"type\": \"scattergl\"}], \"scattermapbox\": [{\"marker\": {\"colorbar\": {\"outlinewidth\": 0, \"ticks\": \"\"}}, \"type\": \"scattermapbox\"}], \"scatterpolar\": [{\"marker\": {\"colorbar\": {\"outlinewidth\": 0, \"ticks\": \"\"}}, \"type\": \"scatterpolar\"}], \"scatterpolargl\": [{\"marker\": {\"colorbar\": {\"outlinewidth\": 0, \"ticks\": \"\"}}, \"type\": \"scatterpolargl\"}], \"scatterternary\": [{\"marker\": {\"colorbar\": {\"outlinewidth\": 0, \"ticks\": \"\"}}, \"type\": \"scatterternary\"}], \"surface\": [{\"colorbar\": {\"outlinewidth\": 0, \"ticks\": \"\"}, \"colorscale\": [[0.0, \"#0d0887\"], [0.1111111111111111, \"#46039f\"], [0.2222222222222222, \"#7201a8\"], [0.3333333333333333, \"#9c179e\"], [0.4444444444444444, \"#bd3786\"], [0.5555555555555556, \"#d8576b\"], [0.6666666666666666, \"#ed7953\"], [0.7777777777777778, \"#fb9f3a\"], [0.8888888888888888, \"#fdca26\"], [1.0, \"#f0f921\"]], \"type\": \"surface\"}], \"table\": [{\"cells\": {\"fill\": {\"color\": \"#EBF0F8\"}, \"line\": {\"color\": \"white\"}}, \"header\": {\"fill\": {\"color\": \"#C8D4E3\"}, \"line\": {\"color\": \"white\"}}, \"type\": \"table\"}]}, \"layout\": {\"annotationdefaults\": {\"arrowcolor\": \"#2a3f5f\", \"arrowhead\": 0, \"arrowwidth\": 1}, \"colorscale\": {\"diverging\": [[0, \"#8e0152\"], [0.1, \"#c51b7d\"], [0.2, \"#de77ae\"], [0.3, \"#f1b6da\"], [0.4, \"#fde0ef\"], [0.5, \"#f7f7f7\"], [0.6, \"#e6f5d0\"], [0.7, \"#b8e186\"], [0.8, \"#7fbc41\"], [0.9, \"#4d9221\"], [1, \"#276419\"]], \"sequential\": [[0.0, \"#0d0887\"], [0.1111111111111111, \"#46039f\"], [0.2222222222222222, \"#7201a8\"], [0.3333333333333333, \"#9c179e\"], [0.4444444444444444, \"#bd3786\"], [0.5555555555555556, \"#d8576b\"], [0.6666666666666666, \"#ed7953\"], [0.7777777777777778, \"#fb9f3a\"], [0.8888888888888888, \"#fdca26\"], [1.0, \"#f0f921\"]], \"sequentialminus\": [[0.0, \"#0d0887\"], [0.1111111111111111, \"#46039f\"], [0.2222222222222222, \"#7201a8\"], [0.3333333333333333, \"#9c179e\"], [0.4444444444444444, \"#bd3786\"], [0.5555555555555556, \"#d8576b\"], [0.6666666666666666, \"#ed7953\"], [0.7777777777777778, \"#fb9f3a\"], [0.8888888888888888, \"#fdca26\"], [1.0, \"#f0f921\"]]}, \"colorway\": [\"#636efa\", \"#EF553B\", \"#00cc96\", \"#ab63fa\", \"#FFA15A\", \"#19d3f3\", \"#FF6692\", \"#B6E880\", \"#FF97FF\", \"#FECB52\"], \"font\": {\"color\": \"#2a3f5f\"}, \"geo\": {\"bgcolor\": \"white\", \"lakecolor\": \"white\", \"landcolor\": \"#E5ECF6\", \"showlakes\": true, \"showland\": true, \"subunitcolor\": \"white\"}, \"hoverlabel\": {\"align\": \"left\"}, \"hovermode\": \"closest\", \"mapbox\": {\"style\": \"light\"}, \"paper_bgcolor\": \"white\", \"plot_bgcolor\": \"#E5ECF6\", \"polar\": {\"angularaxis\": {\"gridcolor\": \"white\", \"linecolor\": \"white\", \"ticks\": \"\"}, \"bgcolor\": \"#E5ECF6\", \"radialaxis\": {\"gridcolor\": \"white\", \"linecolor\": \"white\", \"ticks\": \"\"}}, \"scene\": {\"xaxis\": {\"backgroundcolor\": \"#E5ECF6\", \"gridcolor\": \"white\", \"gridwidth\": 2, \"linecolor\": \"white\", \"showbackground\": true, \"ticks\": \"\", \"zerolinecolor\": \"white\"}, \"yaxis\": {\"backgroundcolor\": \"#E5ECF6\", \"gridcolor\": \"white\", \"gridwidth\": 2, \"linecolor\": \"white\", \"showbackground\": true, \"ticks\": \"\", \"zerolinecolor\": \"white\"}, \"zaxis\": {\"backgroundcolor\": \"#E5ECF6\", \"gridcolor\": \"white\", \"gridwidth\": 2, \"linecolor\": \"white\", \"showbackground\": true, \"ticks\": \"\", \"zerolinecolor\": \"white\"}}, \"shapedefaults\": {\"line\": {\"color\": \"#2a3f5f\"}}, \"ternary\": {\"aaxis\": {\"gridcolor\": \"white\", \"linecolor\": \"white\", \"ticks\": \"\"}, \"baxis\": {\"gridcolor\": \"white\", \"linecolor\": \"white\", \"ticks\": \"\"}, \"bgcolor\": \"#E5ECF6\", \"caxis\": {\"gridcolor\": \"white\", \"linecolor\": \"white\", \"ticks\": \"\"}}, \"title\": {\"x\": 0.05}, \"xaxis\": {\"automargin\": true, \"gridcolor\": \"white\", \"linecolor\": \"white\", \"ticks\": \"\", \"zerolinecolor\": \"white\", \"zerolinewidth\": 2}, \"yaxis\": {\"automargin\": true, \"gridcolor\": \"white\", \"linecolor\": \"white\", \"ticks\": \"\", \"zerolinecolor\": \"white\", \"zerolinewidth\": 2}}}, \"title\": {\"text\": \"Number of recordings in given label\"}, \"xaxis\": {\"title\": {\"text\": \"Words\"}}, \"yaxis\": {\"title\": {\"text\": \"Number of recordings\"}}},\n",
       "                        {\"responsive\": true}\n",
       "                    ).then(function(){\n",
       "                            \n",
       "var gd = document.getElementById('2192d664-dc9f-40cb-b3b9-16d31a99a24c');\n",
       "var x = new MutationObserver(function (mutations, observer) {{\n",
       "        var display = window.getComputedStyle(gd).display;\n",
       "        if (!display || display === 'none') {{\n",
       "            console.log([gd, 'removed!']);\n",
       "            Plotly.purge(gd);\n",
       "            observer.disconnect();\n",
       "        }}\n",
       "}});\n",
       "\n",
       "// Listen for the removal of the full notebook cells\n",
       "var notebookContainer = gd.closest('#notebook-container');\n",
       "if (notebookContainer) {{\n",
       "    x.observe(notebookContainer, {childList: true});\n",
       "}}\n",
       "\n",
       "// Listen for the clearing of the current output cell\n",
       "var outputEl = gd.closest('.output');\n",
       "if (outputEl) {{\n",
       "    x.observe(outputEl, {childList: true});\n",
       "}}\n",
       "\n",
       "                        })\n",
       "                };\n",
       "                });\n",
       "            </script>\n",
       "        </div>"
      ]
     },
     "metadata": {},
     "output_type": "display_data"
    }
   ],
   "source": [
    "filename = '/yes/0a7c2a8d_nohash_0.wav'\n",
    "eda = EDA(train_audio_path)\n",
    "eda.plot_histogram()"
   ]
  },
  {
   "cell_type": "code",
   "execution_count": 14,
   "metadata": {},
   "outputs": [
    {
     "name": "stdout",
     "output_type": "stream",
     "text": [
      "(128, 44)\n"
     ]
    },
    {
     "data": {
      "image/png": "[encoded data removed]",
      "text/plain": [
       "<Figure size 1008x576 with 2 Axes>"
      ]
     },
     "metadata": {
      "needs_background": "light"
     },
     "output_type": "display_data"
    },
    {
     "data": {
      "image/png": "[encoded data removed]",
      "text/plain": [
       "<Figure size 864x288 with 2 Axes>"
      ]
     },
     "metadata": {
      "needs_background": "light"
     },
     "output_type": "display_data"
    },
    {
     "data": {
      "image/png": "[encoded data removed]",
      "text/plain": [
       "<Figure size 864x288 with 2 Axes>"
      ]
     },
     "metadata": {
      "needs_background": "light"
     },
     "output_type": "display_data"
    }
   ],
   "source": [
    "file_processor = FileProcessor(train_audio_path,filename)\n",
    "file_processor.log_specgram()\n",
    "file_processor.plot_specgram()\n",
    "file_processor.get_mel_spectogram()\n",
    "file_processor.plot_mel_spectogram()\n",
    "file_processor.get_delta()\n",
    "file_processor.plot_delta()"
   ]
  },
  {
   "cell_type": "code",
   "execution_count": 65,
   "metadata": {},
   "outputs": [],
   "source": [
    "class DataLoader:\n",
    "    def __init__(self,directory_path,subdirectories):\n",
    "        self.directory_path = directory_path\n",
    "        self.subdirectories = subdirectories\n",
    "    \n",
    "    def load(self):\n",
    "        label = 0\n",
    "        x = []\n",
    "        y = []\n",
    "        for direct in self.subdirectories:\n",
    "            waves = [f for f in os.listdir(join(self.directory_path, direct)) if f.endswith('.wav')]\n",
    "            file_processors = [FileProcessor(self.directory_path,f) for f in waves]\n",
    "            mel_spectograms = [file_processor.get_mel_spectogram() for file_processor in file_processors]\n",
    "            for mel_spectogram in mel_spectograms:\n",
    "                x.append(mel_spectogram)\n",
    "                y.append(label)\n",
    "            \n",
    "            label = label + 1\n",
    "        return x,y\n",
    "            "
   ]
  },
  {
   "cell_type": "code",
   "execution_count": 12,
   "metadata": {},
   "outputs": [
    {
     "name": "stderr",
     "output_type": "stream",
     "text": [
      "Using TensorFlow backend.\n"
     ]
    }
   ],
   "source": [
    "from keras.engine import Layer, InputSpec\n",
    "from keras.layers import Flatten\n",
    "import tensorflow as tf\n",
    "\n",
    "class KMaxPooling(Layer):\n",
    "    \"\"\"\n",
    "    K-max pooling layer that extracts the k-highest activations from a sequence (2nd dimension).\n",
    "    TensorFlow backend.\n",
    "    \"\"\"\n",
    "    def __init__(self, k=1, **kwargs):\n",
    "        super().__init__(**kwargs)\n",
    "        self.input_spec = InputSpec(ndim=3)\n",
    "        self.k = k\n",
    "\n",
    "    def compute_output_shape(self, input_shape):\n",
    "        return (input_shape[0], (input_shape[2] * self.k))\n",
    "\n",
    "    def call(self, inputs):\n",
    "        \n",
    "        # swap last two dimensions since top_k will be applied along the last dimension\n",
    "        shifted_input = tf.transpose(inputs, [0, 2, 1])\n",
    "        \n",
    "        # extract top_k, returns two tensors [values, indices]\n",
    "        top_k = tf.nn.top_k(shifted_input, k=self.k, sorted=True, name=None)[0]\n",
    "        \n",
    "        # return flattened output\n",
    "        return Flatten()(top_k)"
   ]
  },
  {
   "cell_type": "code",
   "execution_count": 36,
   "metadata": {},
   "outputs": [],
   "source": [
    "class Folding(Layer):\n",
    "\n",
    "    def __init__(self, **kwargs):\n",
    "        super(Folding, self).__init__(**kwargs)\n",
    "        self.input_spec = InputSpec(ndim=3)\n",
    "\n",
    "    def compute_output_shape(self, input_shape):\n",
    "        return (input_shape[0], input_shape[1], int(input_shape[2]/2))\n",
    "\n",
    "    def call(self, x):\n",
    "        input_shape = x.get_shape().as_list()\n",
    "\n",
    "        # split the tensor along dimension 2 into dimension_axis_size/2\n",
    "        # which will give us 2 tensors\n",
    "        splits = tf.split(x, num_or_size_splits=int(input_shape[2]/2), axis=2)\n",
    "\n",
    "        # reduce sums of the pair of rows we have split onto\n",
    "        reduce_sums = [tf.reduce_sum(split, axis=2) for split in splits]\n",
    "\n",
    "        # stack them up along the same axis we have reduced\n",
    "        row_reduced = tf.stack(reduce_sums, axis=2)\n",
    "        return row_reduced"
   ]
  },
  {
   "cell_type": "code",
   "execution_count": 108,
   "metadata": {},
   "outputs": [],
   "source": [
    "from keras.utils import to_categorical\n",
    "train_audio_path = cwd + '/test'\n",
    "data_loader = DataLoader(train_audio_path,[\"yes\",\"no\"])\n",
    "x,y = data_loader.load()\n",
    "x = np.array(x)\n",
    "y = np.array(y)\n",
    "x_new_shape = (x.shape) + (1,)\n",
    "x = x.reshape(x_new_shape)\n",
    "y = to_categorical(y, num_classes=None, dtype='float32')"
   ]
  },
  {
   "cell_type": "code",
   "execution_count": 109,
   "metadata": {},
   "outputs": [
    {
     "name": "stdout",
     "output_type": "stream",
     "text": [
      "Train on 180 samples, validate on 90 samples\n",
      "Epoch 1/150\n",
      "180/180 [==============================] - 1s 6ms/step - loss: 1.5041 - accuracy: 0.5222 - val_loss: 0.3234 - val_accuracy: 1.0000\n",
      "Epoch 2/150\n",
      "180/180 [==============================] - 0s 2ms/step - loss: 0.7348 - accuracy: 0.5111 - val_loss: 0.3287 - val_accuracy: 1.0000\n",
      "Epoch 3/150\n",
      "180/180 [==============================] - 0s 2ms/step - loss: 0.7084 - accuracy: 0.5444 - val_loss: 0.9151 - val_accuracy: 0.0000e+00\n",
      "Epoch 4/150\n",
      "180/180 [==============================] - 0s 2ms/step - loss: 0.7032 - accuracy: 0.5667 - val_loss: 0.5637 - val_accuracy: 1.0000\n",
      "Epoch 5/150\n",
      "180/180 [==============================] - 0s 2ms/step - loss: 0.7105 - accuracy: 0.5222 - val_loss: 0.3553 - val_accuracy: 1.0000\n",
      "Epoch 6/150\n",
      "180/180 [==============================] - 0s 2ms/step - loss: 0.6845 - accuracy: 0.5778 - val_loss: 0.6198 - val_accuracy: 1.0000\n",
      "Epoch 7/150\n",
      "180/180 [==============================] - 0s 2ms/step - loss: 0.6892 - accuracy: 0.5778 - val_loss: 0.4726 - val_accuracy: 1.0000\n",
      "Epoch 8/150\n",
      "180/180 [==============================] - 0s 2ms/step - loss: 0.6987 - accuracy: 0.5111 - val_loss: 0.3921 - val_accuracy: 1.0000\n",
      "Epoch 9/150\n",
      "180/180 [==============================] - 0s 2ms/step - loss: 0.7031 - accuracy: 0.5667 - val_loss: 0.8109 - val_accuracy: 0.0000e+00\n",
      "Epoch 10/150\n",
      "180/180 [==============================] - 0s 2ms/step - loss: 0.7205 - accuracy: 0.5111 - val_loss: 0.5210 - val_accuracy: 1.0000\n",
      "Epoch 11/150\n",
      "180/180 [==============================] - 0s 2ms/step - loss: 0.6895 - accuracy: 0.5778 - val_loss: 0.5835 - val_accuracy: 1.0000\n",
      "Epoch 12/150\n",
      "180/180 [==============================] - 0s 2ms/step - loss: 0.6817 - accuracy: 0.5556 - val_loss: 0.4432 - val_accuracy: 1.0000\n",
      "Epoch 13/150\n",
      "180/180 [==============================] - 0s 2ms/step - loss: 0.6914 - accuracy: 0.5778 - val_loss: 0.8956 - val_accuracy: 0.0000e+00\n",
      "Epoch 14/150\n",
      "180/180 [==============================] - 0s 2ms/step - loss: 0.6903 - accuracy: 0.5778 - val_loss: 0.4643 - val_accuracy: 1.0000\n",
      "Epoch 15/150\n",
      "180/180 [==============================] - 0s 2ms/step - loss: 0.6860 - accuracy: 0.5556 - val_loss: 0.3615 - val_accuracy: 1.0000\n",
      "Epoch 16/150\n",
      "180/180 [==============================] - 0s 2ms/step - loss: 0.7143 - accuracy: 0.5111 - val_loss: 0.5245 - val_accuracy: 1.0000\n",
      "Epoch 17/150\n",
      "180/180 [==============================] - 0s 2ms/step - loss: 0.6861 - accuracy: 0.5778 - val_loss: 0.5727 - val_accuracy: 1.0000\n",
      "Epoch 18/150\n",
      "180/180 [==============================] - 0s 2ms/step - loss: 0.7020 - accuracy: 0.5444 - val_loss: 0.8040 - val_accuracy: 0.0000e+00\n",
      "Epoch 19/150\n",
      "180/180 [==============================] - 0s 2ms/step - loss: 0.7050 - accuracy: 0.5000 - val_loss: 0.5836 - val_accuracy: 1.0000\n",
      "Epoch 20/150\n",
      "180/180 [==============================] - 0s 2ms/step - loss: 0.6910 - accuracy: 0.5778 - val_loss: 0.5158 - val_accuracy: 1.0000\n",
      "Epoch 21/150\n",
      "180/180 [==============================] - 0s 2ms/step - loss: 0.6958 - accuracy: 0.5333 - val_loss: 0.4577 - val_accuracy: 1.0000\n",
      "Epoch 22/150\n",
      "180/180 [==============================] - 0s 2ms/step - loss: 0.6897 - accuracy: 0.5556 - val_loss: 0.8538 - val_accuracy: 0.0000e+00\n",
      "Epoch 23/150\n",
      "180/180 [==============================] - 0s 2ms/step - loss: 0.6967 - accuracy: 0.5444 - val_loss: 0.6142 - val_accuracy: 1.0000\n",
      "Epoch 24/150\n",
      "180/180 [==============================] - 0s 2ms/step - loss: 0.6913 - accuracy: 0.5778 - val_loss: 0.4953 - val_accuracy: 1.0000\n",
      "Epoch 25/150\n",
      "180/180 [==============================] - 0s 2ms/step - loss: 0.6906 - accuracy: 0.5333 - val_loss: 0.4464 - val_accuracy: 1.0000\n",
      "Epoch 26/150\n",
      "180/180 [==============================] - 0s 2ms/step - loss: 0.6907 - accuracy: 0.5444 - val_loss: 0.7383 - val_accuracy: 0.0000e+00\n",
      "Epoch 27/150\n",
      "180/180 [==============================] - 0s 2ms/step - loss: 0.7009 - accuracy: 0.5778 - val_loss: 0.8899 - val_accuracy: 0.0000e+00\n",
      "Epoch 28/150\n",
      "180/180 [==============================] - 0s 2ms/step - loss: 0.7369 - accuracy: 0.5111 - val_loss: 0.5372 - val_accuracy: 1.0000\n",
      "Epoch 29/150\n",
      "180/180 [==============================] - 0s 2ms/step - loss: 0.6941 - accuracy: 0.5333 - val_loss: 0.5674 - val_accuracy: 1.0000\n",
      "Epoch 30/150\n",
      "180/180 [==============================] - 0s 2ms/step - loss: 0.6873 - accuracy: 0.5778 - val_loss: 0.5837 - val_accuracy: 1.0000\n",
      "Epoch 31/150\n",
      "180/180 [==============================] - 0s 2ms/step - loss: 0.6943 - accuracy: 0.5778 - val_loss: 0.7283 - val_accuracy: 0.0000e+00\n",
      "Epoch 32/150\n",
      "180/180 [==============================] - 0s 2ms/step - loss: 0.7110 - accuracy: 0.5111 - val_loss: 0.6952 - val_accuracy: 0.0000e+00\n",
      "Epoch 33/150\n",
      "180/180 [==============================] - 0s 2ms/step - loss: 0.6963 - accuracy: 0.5444 - val_loss: 0.5465 - val_accuracy: 1.0000\n",
      "Epoch 34/150\n",
      "180/180 [==============================] - 0s 2ms/step - loss: 0.6925 - accuracy: 0.5778 - val_loss: 0.5065 - val_accuracy: 1.0000\n",
      "Epoch 35/150\n",
      "180/180 [==============================] - 0s 2ms/step - loss: 0.6943 - accuracy: 0.5778 - val_loss: 0.5844 - val_accuracy: 1.0000\n",
      "Epoch 36/150\n",
      "180/180 [==============================] - 0s 2ms/step - loss: 0.6859 - accuracy: 0.5778 - val_loss: 0.7263 - val_accuracy: 0.0000e+00\n",
      "Epoch 37/150\n",
      "180/180 [==============================] - 0s 2ms/step - loss: 0.6985 - accuracy: 0.5111 - val_loss: 0.5440 - val_accuracy: 1.0000\n",
      "Epoch 38/150\n",
      "180/180 [==============================] - 0s 2ms/step - loss: 0.7125 - accuracy: 0.5000 - val_loss: 0.3207 - val_accuracy: 1.0000\n",
      "Epoch 39/150\n",
      "180/180 [==============================] - 0s 2ms/step - loss: 0.7190 - accuracy: 0.5000 - val_loss: 0.4866 - val_accuracy: 1.0000\n",
      "Epoch 40/150\n",
      "180/180 [==============================] - 0s 2ms/step - loss: 0.6897 - accuracy: 0.5333 - val_loss: 0.3873 - val_accuracy: 1.0000\n",
      "Epoch 41/150\n",
      "180/180 [==============================] - 0s 2ms/step - loss: 0.7033 - accuracy: 0.5111 - val_loss: 0.4718 - val_accuracy: 1.0000\n",
      "Epoch 42/150\n",
      "180/180 [==============================] - 0s 2ms/step - loss: 0.6962 - accuracy: 0.5667 - val_loss: 0.8286 - val_accuracy: 0.0000e+00\n",
      "Epoch 43/150\n",
      "180/180 [==============================] - 0s 2ms/step - loss: 0.7126 - accuracy: 0.5000 - val_loss: 0.6326 - val_accuracy: 1.0000\n",
      "Epoch 44/150\n",
      "180/180 [==============================] - 0s 2ms/step - loss: 0.7098 - accuracy: 0.5000 - val_loss: 0.8208 - val_accuracy: 0.0000e+00\n",
      "Epoch 45/150\n",
      "180/180 [==============================] - 0s 2ms/step - loss: 0.7044 - accuracy: 0.5000 - val_loss: 0.5273 - val_accuracy: 1.0000\n",
      "Epoch 46/150\n",
      "180/180 [==============================] - 0s 2ms/step - loss: 0.6887 - accuracy: 0.5778 - val_loss: 0.4999 - val_accuracy: 1.0000\n",
      "Epoch 47/150\n",
      "180/180 [==============================] - 0s 2ms/step - loss: 0.6915 - accuracy: 0.5778 - val_loss: 0.4693 - val_accuracy: 1.0000\n",
      "Epoch 48/150\n",
      "180/180 [==============================] - 0s 2ms/step - loss: 0.6951 - accuracy: 0.5222 - val_loss: 0.5206 - val_accuracy: 1.0000\n",
      "Epoch 49/150\n",
      "180/180 [==============================] - 0s 2ms/step - loss: 0.6882 - accuracy: 0.5778 - val_loss: 0.5209 - val_accuracy: 1.0000\n",
      "Epoch 50/150\n",
      "180/180 [==============================] - 0s 2ms/step - loss: 0.6857 - accuracy: 0.5778 - val_loss: 0.5695 - val_accuracy: 1.0000\n",
      "Epoch 51/150\n",
      "180/180 [==============================] - 0s 2ms/step - loss: 0.6913 - accuracy: 0.5778 - val_loss: 0.5413 - val_accuracy: 1.0000\n",
      "Epoch 52/150\n",
      "180/180 [==============================] - 0s 2ms/step - loss: 0.7200 - accuracy: 0.5000 - val_loss: 0.6409 - val_accuracy: 1.0000\n",
      "Epoch 53/150\n",
      "180/180 [==============================] - 0s 2ms/step - loss: 0.6791 - accuracy: 0.5778 - val_loss: 0.4566 - val_accuracy: 1.0000\n",
      "Epoch 54/150\n",
      "180/180 [==============================] - 0s 2ms/step - loss: 0.6950 - accuracy: 0.5778 - val_loss: 0.4784 - val_accuracy: 1.0000\n",
      "Epoch 55/150\n",
      "180/180 [==============================] - 0s 2ms/step - loss: 0.6973 - accuracy: 0.4889 - val_loss: 0.4214 - val_accuracy: 1.0000\n",
      "Epoch 56/150\n",
      "180/180 [==============================] - 0s 2ms/step - loss: 0.6806 - accuracy: 0.5778 - val_loss: 0.7016 - val_accuracy: 0.0000e+00\n",
      "Epoch 57/150\n"
     ]
    },
    {
     "name": "stdout",
     "output_type": "stream",
     "text": [
      "180/180 [==============================] - 0s 2ms/step - loss: 0.7017 - accuracy: 0.5000 - val_loss: 0.4943 - val_accuracy: 1.0000\n",
      "Epoch 58/150\n",
      "180/180 [==============================] - 0s 2ms/step - loss: 0.6959 - accuracy: 0.5667 - val_loss: 0.8452 - val_accuracy: 0.0000e+00\n",
      "Epoch 59/150\n",
      "180/180 [==============================] - 0s 2ms/step - loss: 0.6949 - accuracy: 0.5111 - val_loss: 0.4440 - val_accuracy: 1.0000\n",
      "Epoch 60/150\n",
      "180/180 [==============================] - 0s 2ms/step - loss: 0.7076 - accuracy: 0.5222 - val_loss: 0.8451 - val_accuracy: 0.0000e+00\n",
      "Epoch 61/150\n",
      "180/180 [==============================] - 0s 2ms/step - loss: 0.6930 - accuracy: 0.5111 - val_loss: 0.5000 - val_accuracy: 1.0000\n",
      "Epoch 62/150\n",
      "180/180 [==============================] - 0s 2ms/step - loss: 0.6982 - accuracy: 0.5222 - val_loss: 0.3690 - val_accuracy: 1.0000\n",
      "Epoch 63/150\n",
      "180/180 [==============================] - 0s 2ms/step - loss: 0.7026 - accuracy: 0.5778 - val_loss: 0.5996 - val_accuracy: 1.0000\n",
      "Epoch 64/150\n",
      "180/180 [==============================] - 0s 2ms/step - loss: 0.6974 - accuracy: 0.5778 - val_loss: 0.6437 - val_accuracy: 1.0000\n",
      "Epoch 65/150\n",
      "180/180 [==============================] - 0s 2ms/step - loss: 0.6878 - accuracy: 0.5333 - val_loss: 0.4556 - val_accuracy: 1.0000\n",
      "Epoch 66/150\n",
      "180/180 [==============================] - 0s 2ms/step - loss: 0.6959 - accuracy: 0.5778 - val_loss: 0.5614 - val_accuracy: 1.0000\n",
      "Epoch 67/150\n",
      "180/180 [==============================] - 0s 2ms/step - loss: 0.6956 - accuracy: 0.5778 - val_loss: 0.6431 - val_accuracy: 1.0000\n",
      "Epoch 68/150\n",
      "180/180 [==============================] - 0s 2ms/step - loss: 0.6892 - accuracy: 0.5778 - val_loss: 0.5589 - val_accuracy: 1.0000\n",
      "Epoch 69/150\n",
      "180/180 [==============================] - 0s 2ms/step - loss: 0.6911 - accuracy: 0.5778 - val_loss: 0.4978 - val_accuracy: 1.0000\n",
      "Epoch 70/150\n",
      "180/180 [==============================] - 0s 2ms/step - loss: 0.6849 - accuracy: 0.5778 - val_loss: 0.6024 - val_accuracy: 1.0000\n",
      "Epoch 71/150\n",
      "180/180 [==============================] - 0s 2ms/step - loss: 0.6913 - accuracy: 0.5778 - val_loss: 0.4996 - val_accuracy: 1.0000\n",
      "Epoch 72/150\n",
      "180/180 [==============================] - 0s 2ms/step - loss: 0.6910 - accuracy: 0.5222 - val_loss: 0.4625 - val_accuracy: 1.0000\n",
      "Epoch 73/150\n",
      "180/180 [==============================] - 0s 2ms/step - loss: 0.6934 - accuracy: 0.5778 - val_loss: 0.7061 - val_accuracy: 0.0000e+00\n",
      "Epoch 74/150\n",
      "180/180 [==============================] - 0s 2ms/step - loss: 0.6912 - accuracy: 0.5111 - val_loss: 0.5320 - val_accuracy: 1.0000\n",
      "Epoch 75/150\n",
      "180/180 [==============================] - 0s 2ms/step - loss: 0.6885 - accuracy: 0.5778 - val_loss: 0.5218 - val_accuracy: 1.0000\n",
      "Epoch 76/150\n",
      "180/180 [==============================] - 0s 2ms/step - loss: 0.6834 - accuracy: 0.5778 - val_loss: 0.5375 - val_accuracy: 1.0000\n",
      "Epoch 77/150\n",
      "180/180 [==============================] - 0s 2ms/step - loss: 0.6824 - accuracy: 0.5778 - val_loss: 0.5767 - val_accuracy: 1.0000\n",
      "Epoch 78/150\n",
      "180/180 [==============================] - 0s 2ms/step - loss: 0.6845 - accuracy: 0.5556 - val_loss: 0.4431 - val_accuracy: 1.0000\n",
      "Epoch 79/150\n",
      "180/180 [==============================] - 0s 2ms/step - loss: 0.7032 - accuracy: 0.5333 - val_loss: 0.7649 - val_accuracy: 0.0000e+00\n",
      "Epoch 80/150\n",
      "180/180 [==============================] - 0s 2ms/step - loss: 0.6933 - accuracy: 0.5444 - val_loss: 0.3502 - val_accuracy: 1.0000\n",
      "Epoch 81/150\n",
      "180/180 [==============================] - 0s 2ms/step - loss: 0.7125 - accuracy: 0.5444 - val_loss: 0.4715 - val_accuracy: 1.0000\n",
      "Epoch 82/150\n",
      "180/180 [==============================] - 0s 2ms/step - loss: 0.6899 - accuracy: 0.5778 - val_loss: 0.5971 - val_accuracy: 1.0000\n",
      "Epoch 83/150\n",
      "180/180 [==============================] - 0s 2ms/step - loss: 0.6874 - accuracy: 0.5778 - val_loss: 0.4999 - val_accuracy: 1.0000\n",
      "Epoch 84/150\n",
      "180/180 [==============================] - 0s 2ms/step - loss: 0.6936 - accuracy: 0.5333 - val_loss: 0.4257 - val_accuracy: 1.0000\n",
      "Epoch 85/150\n",
      "180/180 [==============================] - 0s 2ms/step - loss: 0.6876 - accuracy: 0.5778 - val_loss: 0.5561 - val_accuracy: 1.0000\n",
      "Epoch 86/150\n",
      "180/180 [==============================] - 0s 2ms/step - loss: 0.6884 - accuracy: 0.5778 - val_loss: 0.5185 - val_accuracy: 1.0000\n",
      "Epoch 87/150\n",
      "180/180 [==============================] - 0s 2ms/step - loss: 0.6890 - accuracy: 0.5778 - val_loss: 0.6736 - val_accuracy: 1.0000\n",
      "Epoch 88/150\n",
      "180/180 [==============================] - 0s 2ms/step - loss: 0.6882 - accuracy: 0.5778 - val_loss: 0.5471 - val_accuracy: 1.0000\n",
      "Epoch 89/150\n",
      "180/180 [==============================] - 0s 2ms/step - loss: 0.6852 - accuracy: 0.5778 - val_loss: 0.5332 - val_accuracy: 1.0000\n",
      "Epoch 90/150\n",
      "180/180 [==============================] - 0s 2ms/step - loss: 0.6848 - accuracy: 0.5778 - val_loss: 0.5886 - val_accuracy: 1.0000\n",
      "Epoch 91/150\n",
      "180/180 [==============================] - 0s 2ms/step - loss: 0.6989 - accuracy: 0.4778 - val_loss: 0.5131 - val_accuracy: 1.0000\n",
      "Epoch 92/150\n",
      "180/180 [==============================] - 0s 2ms/step - loss: 0.6972 - accuracy: 0.5778 - val_loss: 0.4611 - val_accuracy: 1.0000\n",
      "Epoch 93/150\n",
      "180/180 [==============================] - 0s 2ms/step - loss: 0.6860 - accuracy: 0.5778 - val_loss: 0.5832 - val_accuracy: 1.0000\n",
      "Epoch 94/150\n",
      "180/180 [==============================] - 0s 2ms/step - loss: 0.6873 - accuracy: 0.5778 - val_loss: 0.5746 - val_accuracy: 1.0000\n",
      "Epoch 95/150\n",
      "180/180 [==============================] - 0s 2ms/step - loss: 0.6852 - accuracy: 0.5778 - val_loss: 0.4891 - val_accuracy: 1.0000\n",
      "Epoch 96/150\n",
      "180/180 [==============================] - 0s 2ms/step - loss: 0.6887 - accuracy: 0.5778 - val_loss: 0.5510 - val_accuracy: 1.0000\n",
      "Epoch 97/150\n",
      "180/180 [==============================] - 0s 2ms/step - loss: 0.6889 - accuracy: 0.5778 - val_loss: 0.6583 - val_accuracy: 1.0000\n",
      "Epoch 98/150\n",
      "180/180 [==============================] - 0s 2ms/step - loss: 0.6865 - accuracy: 0.5444 - val_loss: 0.4651 - val_accuracy: 1.0000\n",
      "Epoch 99/150\n",
      "180/180 [==============================] - 0s 2ms/step - loss: 0.6910 - accuracy: 0.5778 - val_loss: 0.4722 - val_accuracy: 1.0000\n",
      "Epoch 100/150\n",
      "180/180 [==============================] - 0s 2ms/step - loss: 0.6859 - accuracy: 0.5778 - val_loss: 0.5676 - val_accuracy: 1.0000\n",
      "Epoch 101/150\n",
      "180/180 [==============================] - 0s 2ms/step - loss: 0.6931 - accuracy: 0.5778 - val_loss: 0.5389 - val_accuracy: 1.0000\n",
      "Epoch 102/150\n",
      "180/180 [==============================] - 0s 2ms/step - loss: 0.6836 - accuracy: 0.5778 - val_loss: 0.5383 - val_accuracy: 1.0000\n",
      "Epoch 103/150\n",
      "180/180 [==============================] - 0s 2ms/step - loss: 0.6873 - accuracy: 0.5778 - val_loss: 0.6374 - val_accuracy: 1.0000\n",
      "Epoch 104/150\n",
      "180/180 [==============================] - 0s 2ms/step - loss: 0.6826 - accuracy: 0.5444 - val_loss: 0.4377 - val_accuracy: 1.0000\n",
      "Epoch 105/150\n",
      "180/180 [==============================] - 0s 2ms/step - loss: 0.6981 - accuracy: 0.5778 - val_loss: 0.4723 - val_accuracy: 1.0000\n",
      "Epoch 106/150\n",
      "180/180 [==============================] - 0s 2ms/step - loss: 0.7008 - accuracy: 0.5000 - val_loss: 0.4715 - val_accuracy: 1.0000\n",
      "Epoch 107/150\n",
      "180/180 [==============================] - 0s 2ms/step - loss: 0.6884 - accuracy: 0.5778 - val_loss: 0.5398 - val_accuracy: 1.0000\n",
      "Epoch 108/150\n",
      "180/180 [==============================] - 0s 2ms/step - loss: 0.6856 - accuracy: 0.5778 - val_loss: 0.5133 - val_accuracy: 1.0000\n",
      "Epoch 109/150\n",
      "180/180 [==============================] - 0s 2ms/step - loss: 0.6897 - accuracy: 0.5778 - val_loss: 0.5317 - val_accuracy: 1.0000\n",
      "Epoch 110/150\n",
      "180/180 [==============================] - 0s 2ms/step - loss: 0.6899 - accuracy: 0.4889 - val_loss: 0.5221 - val_accuracy: 1.0000\n",
      "Epoch 111/150\n",
      "180/180 [==============================] - 0s 2ms/step - loss: 0.6913 - accuracy: 0.5778 - val_loss: 0.6377 - val_accuracy: 1.0000\n",
      "Epoch 112/150\n",
      "180/180 [==============================] - 0s 2ms/step - loss: 0.6881 - accuracy: 0.5000 - val_loss: 0.5076 - val_accuracy: 1.0000\n",
      "Epoch 113/150\n",
      "180/180 [==============================] - 0s 2ms/step - loss: 0.6866 - accuracy: 0.5778 - val_loss: 0.5210 - val_accuracy: 1.0000\n"
     ]
    },
    {
     "name": "stdout",
     "output_type": "stream",
     "text": [
      "Epoch 114/150\n",
      "180/180 [==============================] - 0s 2ms/step - loss: 0.6867 - accuracy: 0.5778 - val_loss: 0.5419 - val_accuracy: 1.0000\n",
      "Epoch 115/150\n",
      "180/180 [==============================] - 0s 2ms/step - loss: 0.6851 - accuracy: 0.5778 - val_loss: 0.5475 - val_accuracy: 1.0000\n",
      "Epoch 116/150\n",
      "180/180 [==============================] - 0s 2ms/step - loss: 0.6838 - accuracy: 0.5778 - val_loss: 0.5441 - val_accuracy: 1.0000\n",
      "Epoch 117/150\n",
      "180/180 [==============================] - 0s 2ms/step - loss: 0.7110 - accuracy: 0.4444 - val_loss: 0.4118 - val_accuracy: 1.0000\n",
      "Epoch 118/150\n",
      "180/180 [==============================] - 0s 2ms/step - loss: 0.6937 - accuracy: 0.5333 - val_loss: 0.7203 - val_accuracy: 0.0000e+00\n",
      "Epoch 119/150\n",
      "180/180 [==============================] - 0s 2ms/step - loss: 0.6868 - accuracy: 0.5667 - val_loss: 0.6090 - val_accuracy: 1.0000\n",
      "Epoch 120/150\n",
      "180/180 [==============================] - 0s 2ms/step - loss: 0.7039 - accuracy: 0.5000 - val_loss: 0.4355 - val_accuracy: 1.0000\n",
      "Epoch 121/150\n",
      "180/180 [==============================] - 0s 2ms/step - loss: 0.6979 - accuracy: 0.5778 - val_loss: 0.5062 - val_accuracy: 1.0000\n",
      "Epoch 122/150\n",
      "180/180 [==============================] - 0s 2ms/step - loss: 0.6869 - accuracy: 0.5778 - val_loss: 0.7015 - val_accuracy: 0.0000e+00\n",
      "Epoch 123/150\n",
      "180/180 [==============================] - 0s 2ms/step - loss: 0.6907 - accuracy: 0.5111 - val_loss: 0.5204 - val_accuracy: 1.0000\n",
      "Epoch 124/150\n",
      "180/180 [==============================] - 0s 2ms/step - loss: 0.6932 - accuracy: 0.5778 - val_loss: 0.5938 - val_accuracy: 1.0000\n",
      "Epoch 125/150\n",
      "180/180 [==============================] - 0s 2ms/step - loss: 0.6876 - accuracy: 0.5778 - val_loss: 0.5851 - val_accuracy: 1.0000\n",
      "Epoch 126/150\n",
      "180/180 [==============================] - 0s 2ms/step - loss: 0.6854 - accuracy: 0.5778 - val_loss: 0.5504 - val_accuracy: 1.0000\n",
      "Epoch 127/150\n",
      "180/180 [==============================] - 0s 2ms/step - loss: 0.6861 - accuracy: 0.5778 - val_loss: 0.5709 - val_accuracy: 1.0000\n",
      "Epoch 128/150\n",
      "180/180 [==============================] - 0s 2ms/step - loss: 0.6822 - accuracy: 0.5778 - val_loss: 0.5461 - val_accuracy: 1.0000\n",
      "Epoch 129/150\n",
      "180/180 [==============================] - 0s 2ms/step - loss: 0.6863 - accuracy: 0.5778 - val_loss: 0.5685 - val_accuracy: 1.0000\n",
      "Epoch 130/150\n",
      "180/180 [==============================] - 0s 2ms/step - loss: 0.6922 - accuracy: 0.5778 - val_loss: 0.5064 - val_accuracy: 1.0000\n",
      "Epoch 131/150\n",
      "180/180 [==============================] - 0s 2ms/step - loss: 0.6889 - accuracy: 0.5778 - val_loss: 0.5812 - val_accuracy: 1.0000\n",
      "Epoch 132/150\n",
      "180/180 [==============================] - 0s 2ms/step - loss: 0.6831 - accuracy: 0.5778 - val_loss: 0.5354 - val_accuracy: 1.0000\n",
      "Epoch 133/150\n",
      "180/180 [==============================] - 0s 2ms/step - loss: 0.6840 - accuracy: 0.5778 - val_loss: 0.5165 - val_accuracy: 1.0000\n",
      "Epoch 134/150\n",
      "180/180 [==============================] - 0s 2ms/step - loss: 0.6816 - accuracy: 0.5778 - val_loss: 0.6103 - val_accuracy: 1.0000\n",
      "Epoch 135/150\n",
      "180/180 [==============================] - 0s 2ms/step - loss: 0.6846 - accuracy: 0.5778 - val_loss: 0.5341 - val_accuracy: 1.0000\n",
      "Epoch 136/150\n",
      "180/180 [==============================] - 0s 2ms/step - loss: 0.6842 - accuracy: 0.5778 - val_loss: 0.5241 - val_accuracy: 1.0000\n",
      "Epoch 137/150\n",
      "180/180 [==============================] - 0s 2ms/step - loss: 0.6883 - accuracy: 0.5778 - val_loss: 0.6092 - val_accuracy: 1.0000\n",
      "Epoch 138/150\n",
      "180/180 [==============================] - 0s 2ms/step - loss: 0.6864 - accuracy: 0.5778 - val_loss: 0.5576 - val_accuracy: 1.0000\n",
      "Epoch 139/150\n",
      "180/180 [==============================] - 0s 2ms/step - loss: 0.6830 - accuracy: 0.5778 - val_loss: 0.5787 - val_accuracy: 1.0000\n",
      "Epoch 140/150\n",
      "180/180 [==============================] - 0s 2ms/step - loss: 0.6869 - accuracy: 0.5778 - val_loss: 0.5942 - val_accuracy: 1.0000\n",
      "Epoch 141/150\n",
      "180/180 [==============================] - 0s 2ms/step - loss: 0.6880 - accuracy: 0.5778 - val_loss: 0.5031 - val_accuracy: 1.0000\n",
      "Epoch 142/150\n",
      "180/180 [==============================] - 0s 2ms/step - loss: 0.6880 - accuracy: 0.5778 - val_loss: 0.6118 - val_accuracy: 1.0000\n",
      "Epoch 143/150\n",
      "180/180 [==============================] - 0s 2ms/step - loss: 0.6884 - accuracy: 0.5778 - val_loss: 0.5225 - val_accuracy: 1.0000\n",
      "Epoch 144/150\n",
      "180/180 [==============================] - 0s 2ms/step - loss: 0.6933 - accuracy: 0.5778 - val_loss: 0.5250 - val_accuracy: 1.0000\n",
      "Epoch 145/150\n",
      "180/180 [==============================] - 0s 2ms/step - loss: 0.6883 - accuracy: 0.5778 - val_loss: 0.5512 - val_accuracy: 1.0000\n",
      "Epoch 146/150\n",
      "180/180 [==============================] - 0s 2ms/step - loss: 0.6837 - accuracy: 0.5778 - val_loss: 0.5254 - val_accuracy: 1.0000\n",
      "Epoch 147/150\n",
      "180/180 [==============================] - 0s 2ms/step - loss: 0.6817 - accuracy: 0.5778 - val_loss: 0.5868 - val_accuracy: 1.0000\n",
      "Epoch 148/150\n",
      "180/180 [==============================] - 0s 2ms/step - loss: 0.6828 - accuracy: 0.5778 - val_loss: 0.5485 - val_accuracy: 1.0000\n",
      "Epoch 149/150\n",
      "180/180 [==============================] - 0s 2ms/step - loss: 0.6838 - accuracy: 0.5778 - val_loss: 0.5872 - val_accuracy: 1.0000\n",
      "Epoch 150/150\n",
      "180/180 [==============================] - 0s 2ms/step - loss: 0.6865 - accuracy: 0.5778 - val_loss: 0.4985 - val_accuracy: 1.0000\n"
     ]
    },
    {
     "data": {
      "text/plain": [
       "<keras.callbacks.callbacks.History at 0x1c522ad4e0>"
      ]
     },
     "execution_count": 109,
     "metadata": {},
     "output_type": "execute_result"
    }
   ],
   "source": [
    "from keras.models import Sequential\n",
    "from keras.layers import Dense, Activation, ZeroPadding2D,Conv2D,Flatten,Conv1D,MaxPooling2D\n",
    "model = Sequential([\n",
    "    ZeroPadding2D(padding=(3, 3)),\n",
    "    Conv2D(2,(4, 4), padding=\"same\",input_shape=x[0].shape),\n",
    "    MaxPooling2D(pool_size=(4, 4), strides=None, padding='valid',),\n",
    "    Activation(\"relu\"),\n",
    "    ZeroPadding2D(padding=(2,2)),\n",
    "    Conv2D(2,(3, 3), padding=\"same\"),\n",
    "#     Folding(),\n",
    "    MaxPooling2D(pool_size=(3, 3), strides=None, padding='valid',),\n",
    "    Activation(\"relu\"),\n",
    "    Flatten(),\n",
    "    Dense(2, activation=\"softmax\")\n",
    "])\n",
    "model.compile(loss='binary_crossentropy', optimizer='adam', metrics=['accuracy'])\n",
    "model.fit(x,y,validation_split=0.33, epochs=150, batch_size=10)"
   ]
  },
  {
   "cell_type": "code",
   "execution_count": null,
   "metadata": {},
   "outputs": [],
   "source": [
    "import tensorflow as tf\n",
    "\n",
    "class DCNN:\n",
    "    def __init__(self, sequence_lengths, sequence_length, num_classes, filter_sizes,filter_width, num_filters):\n",
    "        '''\n",
    "        Makes a new CNNClassifier\n",
    "        Args:\n",
    "            sequence_length: The length of each sentence\n",
    "            num_classes: Number of classes in the output layer (positive and negative would be 2 classes)\n",
    "            vocab_size: The size of the vocabulary, needed to define the size of the embedding layer\n",
    "            embedding_size: Dimensionality of the embeddings\n",
    "            filter_sizes: Number of words the convolutional filters will cover, there will be num_filters for each size\n",
    "            specified.\n",
    "            num_filters: The number of filters per filter size.\n",
    "\n",
    "        Returns: A new CNNClassifier with the given parameters.\n",
    "        '''\n",
    "\n",
    "        # Define the inputs and the dropout\n",
    "        print(\"SEQL\")\n",
    "        print(sequence_length)\n",
    "        self.filter_sizes = filter_sizes\n",
    "        self.num_filters = num_filters\n",
    "        self.filter_width = filter_width\n",
    "        self.input_x = tf.placeholder(tf.int32, [None, sequence_length], name=\"input_x\")\n",
    "        self.input_y = tf.placeholder(tf.float32, [None, num_classes], name=\"input_y\")\n",
    "        self.dropout_keep_prob = tf.placeholder(tf.float32, name=\"dropout_keep_prob\")\n",
    "    \n",
    "    def construct_model(self):\n",
    "        pooled_outputs = []\n",
    "        for i, filter_size in enumerate(self.filter_sizes):\n",
    "            with tf.name_scope(\"conv-maxpool-%s\" % filter_size):\n",
    "                # Conv layer\n",
    "                filter_shape = [filter_size, filter_width, 1, num_filters]\n",
    "                # W is the filter matrix\n",
    "                W = tf.Variable(tf.truncated_normal(filter_shape, stddev=0.1), name=\"W\")\n",
    "                b = tf.Variable(tf.constant(0.1, shape=[num_filters]), name=\"b\")\n",
    "                conv = tf.nn.conv2d(\n",
    "                    self.input_x,\n",
    "                    W,\n",
    "                    strides=[1, 1, 1, 1],\n",
    "                    padding=\"VALID\",\n",
    "                    name=\"conv\"\n",
    "                )\n",
    "\n",
    "                # Apply nonlinearity\n",
    "                h = tf.nn.relu(tf.nn.bias_add(conv, b), name=\"relu\")\n",
    "\n",
    "                # Max-pooling layer over the outputs\n",
    "\n",
    "                print(sequence_lengths[i] - filter_size + 1)\n",
    "                print(h)\n",
    "\n",
    "                pooled = tf.nn.max_pool(\n",
    "                    h,\n",
    "                    ksize=[1, self.sequence_lengths[i] - self.filter_size + 1, 1, 1],\n",
    "                    strides=[1, 1, 1, 1],\n",
    "                    padding=\"VALID\",\n",
    "                    name=\"pool\"\n",
    "                )\n",
    "\n",
    "                pooled = tf.reshape(pooled, [-1, 1, 1, self.num_filters])\n",
    "\n",
    "                print(pooled)\n",
    "\n",
    "                pooled_outputs.append(pooled)\n",
    "                # Combine all of the pooled features\n",
    "        num_filters_total = num_filters * len(filter_sizes)\n",
    "\n",
    "        max_shape = tf.reduce_max(pooled_outputs, 1)\n",
    "        print(\"shapes\")\n",
    "        print([p.get_shape() for p in pooled_outputs])\n",
    "\n",
    "        # pooled_outputs = [tf.pad(p, [[0, int(max_shape.get_shape()[0]) - int(p.get_shape()[0])], [0, 0], [0, 0], [0, 0]]) for p in pooled_outputs]\n",
    "        # pooled_outputs = [tf.reshape(p, [-1, 1, 1, num_filters]) for p in pooled_outputs]\n",
    "\n",
    "        # pooled_outputs = [tf.reshape(out, [-1, 1, 1, self.max_length]) for out in pooled_outputs]\n",
    "\n",
    "        self.h_pool = tf.concat(3, pooled_outputs)\n",
    "        self.h_pool_flat = tf.reshape(self.h_pool, [-1, num_filters_total])\n",
    "        print(\"here\")\n",
    "        print(self.h_pool_flat)\n",
    "        self.h_pool_flat = tf.reshape(self.h_pool, [max(sequence_lengths), num_filters_total])\n",
    "\n",
    "        # Add dropout\n",
    "        with tf.name_scope(\"dropout\"):\n",
    "            # casted = tf.cast(self.dropout_keep_prob, tf.int32)\n",
    "            self.h_drop = tf.nn.dropout(self.h_pool_flat, self.dropout_keep_prob)\n",
    "            self.h_drop = tf.reshape(self.h_drop, [-1, num_filters_total])\n",
    "\n",
    "        # Do raw predictions (no softmax)\n",
    "        with tf.name_scope(\"output\"):\n",
    "            W = tf.Variable(tf.truncated_normal([num_filters_total, num_classes], stddev=0.1), name=\"W\")\n",
    "            b = tf.Variable(tf.constant(0.1, shape=[num_classes]), name=\"b\")\n",
    "            # xw_plus_b(...) is just Wx + b matmul alias\n",
    "            self.scores = tf.nn.xw_plus_b(self.h_drop, W, b, name=\"scores\")\n",
    "            self.predictions = tf.argmax(self.scores, 1, name=\"predictions\")\n",
    "\n",
    "        # Calculate mean cross-entropy loss\n",
    "        with tf.name_scope(\"loss\"):\n",
    "            # softmax_cross_entropy_with_logits(...) calculates cross-entropy loss\n",
    "            losses = tf.nn.softmax_cross_entropy_with_logits(self.scores, self.input_y)\n",
    "            '''print(\"here\")\n",
    "            print(losses.get_shape())\n",
    "            print(self.scores.get_shape())\n",
    "            print(self.input_y.get_shape())'''\n",
    "            self.loss = tf.reduce_mean(losses)\n",
    "\n",
    "        # Calculate accuracy\n",
    "        with tf.name_scope(\"accuracy\"):\n",
    "            correct_predictions = tf.equal(self.predictions, tf.argmax(self.input_y, 1))\n",
    "            self.accuracy = tf.reduce_mean(tf.cast(correct_predictions, \"float\"), name=\"accuracy\")\n",
    "\n",
    "        # Combine all of the pooled features\n",
    "        num_filters_total = num_filters * len(filter_sizes)\n",
    "\n",
    "        max_shape = tf.reduce_max(pooled_outputs, 1)\n",
    "        print(\"shapes\")\n",
    "        print([p.get_shape() for p in pooled_outputs])        "
   ]
  },
  {
   "cell_type": "code",
   "execution_count": 32,
   "metadata": {},
   "outputs": [
    {
     "data": {
      "text/plain": [
       "{'filter_sizes': '3,4,5',\n",
       " 'num_filters': 10,\n",
       " 'dropout_keep_prob': 0.5,\n",
       " 'l2_reg_lambda': 0.0,\n",
       " 'batch_size': 256,\n",
       " 'num_epochs': 200,\n",
       " 'evaluate_every': 100,\n",
       " 'checkpoint_every': 100,\n",
       " 'allow_soft_placement': True,\n",
       " 'log_device_placement': False}"
      ]
     },
     "execution_count": 32,
     "metadata": {},
     "output_type": "execute_result"
    }
   ],
   "source": [
    "from tensorflow.contrib import learn\n",
    "\n",
    "def del_all_flags(FLAGS):\n",
    "    flags_dict = FLAGS._flags()    \n",
    "    keys_list = [keys for keys in flags_dict]    \n",
    "    for keys in keys_list:\n",
    "        FLAGS.__delattr__(keys)\n",
    "\n",
    "del_all_flags(tf.flags.FLAGS)\n",
    "tf.flags.DEFINE_string(\"filter_sizes\", \"3,4,5\", \"Comma-separated filter sizes (default: '3,4,5')\")\n",
    "tf.flags.DEFINE_integer(\"num_filters\", 10, \"Number of filters per filter size (default: 128)\")\n",
    "tf.flags.DEFINE_float(\"dropout_keep_prob\", 0.5, \"Dropout keep probability (default: 0.5)\")\n",
    "tf.flags.DEFINE_float(\"l2_reg_lambda\", 0.0, \"L2 regularizaion lambda (default: 0.0)\")\n",
    "\n",
    "# Training parameters\n",
    "tf.flags.DEFINE_integer(\"batch_size\", 256, \"Batch Size (default: 64)\")\n",
    "tf.flags.DEFINE_integer(\"num_epochs\", 200, \"Number of training epochs (default: 200)\")\n",
    "tf.flags.DEFINE_integer(\"evaluate_every\", 100, \"Evaluate model on dev set after this many steps (default: 100)\")\n",
    "tf.flags.DEFINE_integer(\"checkpoint_every\", 100, \"Save model after this many steps (default: 100)\")\n",
    "\n",
    "# Misc Parameters\n",
    "tf.flags.DEFINE_boolean(\"allow_soft_placement\", True, \"Allow device soft device placement\")\n",
    "tf.flags.DEFINE_boolean(\"log_device_placement\", False, \"Log placement of ops on devices\")\n",
    "\n",
    "tf.app.flags.FLAGS.flag_values_dict()"
   ]
  }
 ],
 "metadata": {
  "kernelspec": {
   "display_name": "Python 3",
   "language": "python",
   "name": "python3"
  },
  "language_info": {
   "codemirror_mode": {
    "name": "ipython",
    "version": 3
   },
   "file_extension": ".py",
   "mimetype": "text/x-python",
   "name": "python",
   "nbconvert_exporter": "python",
   "pygments_lexer": "ipython3",
   "version": "3.7.3"
  }
 },
 "nbformat": 4,
 "nbformat_minor": 2
}
